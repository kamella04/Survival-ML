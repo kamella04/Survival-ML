{
  "cells": [
    {
      "cell_type": "markdown",
      "metadata": {
        "id": "9LeTuuqsFc_K"
      },
      "source": [
        "Ngoc Bao Khanh Hoang\n",
        "\n",
        "Michelle Cong\n",
        "\n",
        "### **1. Frame the problem**:\n",
        "\n",
        "The dataset contains cases from a study that was conducted between 1958 and 1970 on the survival of patients who had undergone surgery for breast cancer. Our objective is to develop a machine learning model using the the data where the dependent variable is survival_status. We have to fit a model to predict the patient’s survival status whether the patient survived 5 years or longer or the patient died within 5 years.\n",
        "\n",
        "### **2. Get the data**\n",
        "\n",
        "#### *2.1 and 2.2: Create workspace and download data*\n",
        "\n",
        "We will first load the data and see the first 5 rows\n"
      ]
    },
    {
      "cell_type": "code",
      "execution_count": 2,
      "metadata": {
        "colab": {
          "base_uri": "https://localhost:8080/",
          "height": 206
        },
        "id": "lF047mKXGa4S",
        "outputId": "d1582907-46c1-474e-818d-6af15800064f"
      },
      "outputs": [
        {
          "data": {
            "text/html": [
              "<div>\n",
              "<style scoped>\n",
              "    .dataframe tbody tr th:only-of-type {\n",
              "        vertical-align: middle;\n",
              "    }\n",
              "\n",
              "    .dataframe tbody tr th {\n",
              "        vertical-align: top;\n",
              "    }\n",
              "\n",
              "    .dataframe thead th {\n",
              "        text-align: right;\n",
              "    }\n",
              "</style>\n",
              "<table border=\"1\" class=\"dataframe\">\n",
              "  <thead>\n",
              "    <tr style=\"text-align: right;\">\n",
              "      <th></th>\n",
              "      <th>0</th>\n",
              "      <th>1</th>\n",
              "      <th>2</th>\n",
              "      <th>3</th>\n",
              "    </tr>\n",
              "  </thead>\n",
              "  <tbody>\n",
              "    <tr>\n",
              "      <th>0</th>\n",
              "      <td>30.0</td>\n",
              "      <td>64.0</td>\n",
              "      <td>1.0</td>\n",
              "      <td>1</td>\n",
              "    </tr>\n",
              "    <tr>\n",
              "      <th>1</th>\n",
              "      <td>30.0</td>\n",
              "      <td>62.0</td>\n",
              "      <td>3.0</td>\n",
              "      <td>1</td>\n",
              "    </tr>\n",
              "    <tr>\n",
              "      <th>2</th>\n",
              "      <td>30.0</td>\n",
              "      <td>65.0</td>\n",
              "      <td>0.0</td>\n",
              "      <td>1</td>\n",
              "    </tr>\n",
              "    <tr>\n",
              "      <th>3</th>\n",
              "      <td>31.0</td>\n",
              "      <td>59.0</td>\n",
              "      <td>2.0</td>\n",
              "      <td>1</td>\n",
              "    </tr>\n",
              "    <tr>\n",
              "      <th>4</th>\n",
              "      <td>31.0</td>\n",
              "      <td>65.0</td>\n",
              "      <td>4.0</td>\n",
              "      <td>1</td>\n",
              "    </tr>\n",
              "  </tbody>\n",
              "</table>\n",
              "</div>"
            ],
            "text/plain": [
              "      0     1    2  3\n",
              "0  30.0  64.0  1.0  1\n",
              "1  30.0  62.0  3.0  1\n",
              "2  30.0  65.0  0.0  1\n",
              "3  31.0  59.0  2.0  1\n",
              "4  31.0  65.0  4.0  1"
            ]
          },
          "execution_count": 2,
          "metadata": {},
          "output_type": "execute_result"
        }
      ],
      "source": [
        "import pandas as pd\n",
        "df = pd.read_csv(\"D:\\Survival ML\\Survival-ML\\data.csv\", header = None)\n",
        "df.head()"
      ]
    },
    {
      "cell_type": "code",
      "execution_count": 3,
      "metadata": {
        "colab": {
          "base_uri": "https://localhost:8080/",
          "height": 206
        },
        "id": "UMU2WY1ZN7eb",
        "outputId": "4ed6d98d-d620-4180-c7ed-e3e1ffbda1ed"
      },
      "outputs": [
        {
          "data": {
            "text/html": [
              "<div>\n",
              "<style scoped>\n",
              "    .dataframe tbody tr th:only-of-type {\n",
              "        vertical-align: middle;\n",
              "    }\n",
              "\n",
              "    .dataframe tbody tr th {\n",
              "        vertical-align: top;\n",
              "    }\n",
              "\n",
              "    .dataframe thead th {\n",
              "        text-align: right;\n",
              "    }\n",
              "</style>\n",
              "<table border=\"1\" class=\"dataframe\">\n",
              "  <thead>\n",
              "    <tr style=\"text-align: right;\">\n",
              "      <th></th>\n",
              "      <th>age</th>\n",
              "      <th>year</th>\n",
              "      <th>pos_ax_nodes</th>\n",
              "      <th>survival_status</th>\n",
              "    </tr>\n",
              "  </thead>\n",
              "  <tbody>\n",
              "    <tr>\n",
              "      <th>0</th>\n",
              "      <td>30.0</td>\n",
              "      <td>64.0</td>\n",
              "      <td>1.0</td>\n",
              "      <td>1</td>\n",
              "    </tr>\n",
              "    <tr>\n",
              "      <th>1</th>\n",
              "      <td>30.0</td>\n",
              "      <td>62.0</td>\n",
              "      <td>3.0</td>\n",
              "      <td>1</td>\n",
              "    </tr>\n",
              "    <tr>\n",
              "      <th>2</th>\n",
              "      <td>30.0</td>\n",
              "      <td>65.0</td>\n",
              "      <td>0.0</td>\n",
              "      <td>1</td>\n",
              "    </tr>\n",
              "    <tr>\n",
              "      <th>3</th>\n",
              "      <td>31.0</td>\n",
              "      <td>59.0</td>\n",
              "      <td>2.0</td>\n",
              "      <td>1</td>\n",
              "    </tr>\n",
              "    <tr>\n",
              "      <th>4</th>\n",
              "      <td>31.0</td>\n",
              "      <td>65.0</td>\n",
              "      <td>4.0</td>\n",
              "      <td>1</td>\n",
              "    </tr>\n",
              "  </tbody>\n",
              "</table>\n",
              "</div>"
            ],
            "text/plain": [
              "    age  year  pos_ax_nodes  survival_status\n",
              "0  30.0  64.0           1.0                1\n",
              "1  30.0  62.0           3.0                1\n",
              "2  30.0  65.0           0.0                1\n",
              "3  31.0  59.0           2.0                1\n",
              "4  31.0  65.0           4.0                1"
            ]
          },
          "execution_count": 3,
          "metadata": {},
          "output_type": "execute_result"
        }
      ],
      "source": [
        "df.columns = ['age','year','pos_ax_nodes','survival_status']\n",
        "df.head()"
      ]
    },
    {
      "cell_type": "markdown",
      "metadata": {
        "id": "QHgnNF21ICO7"
      },
      "source": [
        "the data contains 4 variables\n",
        "age, year, pos_ax_nodes, survival_status"
      ]
    },
    {
      "cell_type": "markdown",
      "metadata": {
        "id": "5RXhARlrILTO"
      },
      "source": [
        "#### *2.3: Take a quick look at the data structure:*\n",
        "\n",
        "Look at the data set information"
      ]
    },
    {
      "cell_type": "code",
      "execution_count": 4,
      "metadata": {
        "colab": {
          "base_uri": "https://localhost:8080/"
        },
        "id": "HNAE-KeyJV8_",
        "outputId": "d9230b66-960b-489e-8b9b-8568bdc5e637"
      },
      "outputs": [
        {
          "name": "stdout",
          "output_type": "stream",
          "text": [
            "<class 'pandas.core.frame.DataFrame'>\n",
            "RangeIndex: 306 entries, 0 to 305\n",
            "Data columns (total 4 columns):\n",
            " #   Column           Non-Null Count  Dtype  \n",
            "---  ------           --------------  -----  \n",
            " 0   age              304 non-null    float64\n",
            " 1   year             305 non-null    float64\n",
            " 2   pos_ax_nodes     304 non-null    float64\n",
            " 3   survival_status  306 non-null    int64  \n",
            "dtypes: float64(3), int64(1)\n",
            "memory usage: 9.7 KB\n"
          ]
        }
      ],
      "source": [
        "df.info()"
      ]
    },
    {
      "cell_type": "markdown",
      "metadata": {
        "id": "NNuQm1IwJaGQ"
      },
      "source": [
        "\n",
        "\n",
        "\n",
        "Total number of instances (rows): 306 (small dataset)\n",
        "\n",
        "There are 4 columns as well as 4 variables: age, year ,pos_as_nodes, survival_status\n",
        "+ age attributes: has 304 instances (observations) (2 missing values)\n",
        "+ year: has 305 instances (1 missing values)\n",
        "+ pos_ax_nodes: has 304 instances (2 missing values)\n",
        "+ survival_status: 306 instances (non_null values)\n",
        "\n",
        "The data types are either float64 (age, year, pos_ax_nodes) or int64 (survival_status)\n",
        "\n"
      ]
    },
    {
      "cell_type": "code",
      "execution_count": 5,
      "metadata": {
        "colab": {
          "base_uri": "https://localhost:8080/",
          "height": 178
        },
        "id": "nsTtUZEMPdk6",
        "outputId": "c5e3dbe8-7ac1-4391-b448-822e481c73a2"
      },
      "outputs": [
        {
          "data": {
            "text/plain": [
              "survival_status\n",
              "1    225\n",
              "2     81\n",
              "Name: count, dtype: int64"
            ]
          },
          "execution_count": 5,
          "metadata": {},
          "output_type": "execute_result"
        }
      ],
      "source": [
        "df['survival_status'].value_counts()"
      ]
    },
    {
      "cell_type": "markdown",
      "metadata": {
        "id": "0Wm4cQHMj1Vr"
      },
      "source": [
        "there are 225 instances where survival_status is 1\n",
        "and 81 instances where survival_status is 2"
      ]
    },
    {
      "cell_type": "code",
      "execution_count": 6,
      "metadata": {
        "colab": {
          "base_uri": "https://localhost:8080/",
          "height": 565
        },
        "id": "dm-Z5F7SJhl1",
        "outputId": "e68b3343-4675-4b97-9f0f-3c7930996ccd"
      },
      "outputs": [
        {
          "data": {
            "text/plain": [
              "array([[<Axes: title={'center': 'age'}>,\n",
              "        <Axes: title={'center': 'year'}>],\n",
              "       [<Axes: title={'center': 'pos_ax_nodes'}>,\n",
              "        <Axes: title={'center': 'survival_status'}>]], dtype=object)"
            ]
          },
          "execution_count": 6,
          "metadata": {},
          "output_type": "execute_result"
        },
        {
          "data": {
            "image/png": "[encoded data removed]",
            "text/plain": [
              "<Figure size 2000x1500 with 4 Axes>"
            ]
          },
          "metadata": {},
          "output_type": "display_data"
        }
      ],
      "source": [
        "import matplotlib.pyplot as plt\n",
        "df.hist(bins=8, figsize=(20,15))"
      ]
    },
    {
      "cell_type": "markdown",
      "metadata": {
        "id": "UO1p5zWVmXFj"
      },
      "source": [
        "1. The age plot: the x_axis represents the patient age ranged from 30 to 80s years old, y_axis is the number of patients ranged from 0 to 70s. From the plot we found there are more patients from the age range of 30s to 60s\n",
        "2. the year plot: the x_axis represents the year ranged from 1958 to 1969, y_axis is the number of patients ranged from 0 to 60s. From the plot we found there are more patients from the year ranges of 1958 to 1959, 1961 to 1962 and\n",
        "3. the pos_ax_nodes plot: the x_axis represents the number of positive axillary nodes detected ranged from 0 to 50s, y_axis is the age of patients ranged from 0 to 250. From the plot we found there are most patients from the range of 0 to 7 positive axillary.\n",
        "4. the survival_status plot: the x_axis represents the number survival status 1 = the patient survived 5 years or longer and 2 = the patient died within 5 years, y_axis is the numeber of patients ranged from 0 to 200s. From the plot we found there are most patients survived more than 5 years."
      ]
    },
    {
      "cell_type": "code",
      "execution_count": 7,
      "metadata": {
        "colab": {
          "base_uri": "https://localhost:8080/",
          "height": 300
        },
        "id": "5COFkX27MoVl",
        "outputId": "cd43a4a9-6a54-490f-9d83-801aaa362725"
      },
      "outputs": [
        {
          "data": {
            "text/html": [
              "<div>\n",
              "<style scoped>\n",
              "    .dataframe tbody tr th:only-of-type {\n",
              "        vertical-align: middle;\n",
              "    }\n",
              "\n",
              "    .dataframe tbody tr th {\n",
              "        vertical-align: top;\n",
              "    }\n",
              "\n",
              "    .dataframe thead th {\n",
              "        text-align: right;\n",
              "    }\n",
              "</style>\n",
              "<table border=\"1\" class=\"dataframe\">\n",
              "  <thead>\n",
              "    <tr style=\"text-align: right;\">\n",
              "      <th></th>\n",
              "      <th>age</th>\n",
              "      <th>year</th>\n",
              "      <th>pos_ax_nodes</th>\n",
              "      <th>survival_status</th>\n",
              "    </tr>\n",
              "  </thead>\n",
              "  <tbody>\n",
              "    <tr>\n",
              "      <th>count</th>\n",
              "      <td>304.000000</td>\n",
              "      <td>305.000000</td>\n",
              "      <td>304.000000</td>\n",
              "      <td>306.000000</td>\n",
              "    </tr>\n",
              "    <tr>\n",
              "      <th>mean</th>\n",
              "      <td>52.559211</td>\n",
              "      <td>62.842623</td>\n",
              "      <td>4.046053</td>\n",
              "      <td>1.264706</td>\n",
              "    </tr>\n",
              "    <tr>\n",
              "      <th>std</th>\n",
              "      <td>10.764343</td>\n",
              "      <td>3.249720</td>\n",
              "      <td>7.208666</td>\n",
              "      <td>0.441899</td>\n",
              "    </tr>\n",
              "    <tr>\n",
              "      <th>min</th>\n",
              "      <td>30.000000</td>\n",
              "      <td>58.000000</td>\n",
              "      <td>0.000000</td>\n",
              "      <td>1.000000</td>\n",
              "    </tr>\n",
              "    <tr>\n",
              "      <th>25%</th>\n",
              "      <td>44.000000</td>\n",
              "      <td>60.000000</td>\n",
              "      <td>0.000000</td>\n",
              "      <td>1.000000</td>\n",
              "    </tr>\n",
              "    <tr>\n",
              "      <th>50%</th>\n",
              "      <td>52.000000</td>\n",
              "      <td>63.000000</td>\n",
              "      <td>1.000000</td>\n",
              "      <td>1.000000</td>\n",
              "    </tr>\n",
              "    <tr>\n",
              "      <th>75%</th>\n",
              "      <td>61.000000</td>\n",
              "      <td>65.000000</td>\n",
              "      <td>4.250000</td>\n",
              "      <td>2.000000</td>\n",
              "    </tr>\n",
              "    <tr>\n",
              "      <th>max</th>\n",
              "      <td>83.000000</td>\n",
              "      <td>69.000000</td>\n",
              "      <td>52.000000</td>\n",
              "      <td>2.000000</td>\n",
              "    </tr>\n",
              "  </tbody>\n",
              "</table>\n",
              "</div>"
            ],
            "text/plain": [
              "              age        year  pos_ax_nodes  survival_status\n",
              "count  304.000000  305.000000    304.000000       306.000000\n",
              "mean    52.559211   62.842623      4.046053         1.264706\n",
              "std     10.764343    3.249720      7.208666         0.441899\n",
              "min     30.000000   58.000000      0.000000         1.000000\n",
              "25%     44.000000   60.000000      0.000000         1.000000\n",
              "50%     52.000000   63.000000      1.000000         1.000000\n",
              "75%     61.000000   65.000000      4.250000         2.000000\n",
              "max     83.000000   69.000000     52.000000         2.000000"
            ]
          },
          "execution_count": 7,
          "metadata": {},
          "output_type": "execute_result"
        }
      ],
      "source": [
        "df.describe()"
      ]
    },
    {
      "cell_type": "markdown",
      "metadata": {
        "id": "TwKAh6qWk6EJ"
      },
      "source": [
        "The summary statistic from the data df:\n",
        "- count: dataset contains 304 rows (instances) for age and pos_ax_nodes (2 missing values for each attributes), 305 rows for year (1 missing value) and 306 instances for survival_status (no missing value). there are some missing values but in generally it's mostly complete dataset.\n",
        "- The variables range of age: from 30 to 83, of year from 1958 to 1969, pos_ox_nodes: from 0 to 52 and survival_status: from 1 to 2\n",
        "- mean: average of age: 52, year: 62, pos_ax_node: 4 and survival_status: 1\n",
        "- std: standard deviation measures how dispersed the values units are from the mean list values.\n",
        "std age: 10.70, std year: 3.25, std pos_ax_nodes: 7.22, std survival_status: 0.44, meaning the ages, year are on average about 10.70, 3.25 years away from the mean values respectively, 7.22 pos_ax_nodes and 0.44 survival_status are on average about 7.22 and 0.44 unit away from mean.\n",
        "- 25% (quartile 1): age 10.70, year 3.25, pos_ax_nodes 7.22, survival_status 0.44 unit with the prediction values\n",
        "- 50% (quartile 2): age 21.40 unit, year 6.5 unit, pos_ax_nodes 14.44, survival_status 0.88 unit with the prediction values\n",
        "- 75% (quartile 3): age 32.1 unit, year 9.75 unit, pos_ax_nodes 21.66, survival_status 1.32 unit with the prediction values"
      ]
    },
    {
      "cell_type": "markdown",
      "metadata": {
        "id": "8ZXK1FL8Mw82"
      },
      "source": [
        "#### *2.4.Create a Test set*\n",
        "using random_state parameter to set the random generation seed which will partition datasets with the same number of rows"
      ]
    },
    {
      "cell_type": "code",
      "execution_count": 8,
      "metadata": {
        "colab": {
          "base_uri": "https://localhost:8080/",
          "height": 335
        },
        "id": "3voZRQ0qMosl",
        "outputId": "d37b1894-03e5-4a77-9350-ca6705681aae"
      },
      "outputs": [
        {
          "name": "stdout",
          "output_type": "stream",
          "text": [
            "Length of train set: 244\n",
            "Length of test set: 62\n"
          ]
        },
        {
          "data": {
            "text/html": [
              "<div>\n",
              "<style scoped>\n",
              "    .dataframe tbody tr th:only-of-type {\n",
              "        vertical-align: middle;\n",
              "    }\n",
              "\n",
              "    .dataframe tbody tr th {\n",
              "        vertical-align: top;\n",
              "    }\n",
              "\n",
              "    .dataframe thead th {\n",
              "        text-align: right;\n",
              "    }\n",
              "</style>\n",
              "<table border=\"1\" class=\"dataframe\">\n",
              "  <thead>\n",
              "    <tr style=\"text-align: right;\">\n",
              "      <th></th>\n",
              "      <th>age</th>\n",
              "      <th>year</th>\n",
              "      <th>pos_ax_nodes</th>\n",
              "      <th>survival_status</th>\n",
              "    </tr>\n",
              "  </thead>\n",
              "  <tbody>\n",
              "    <tr>\n",
              "      <th>count</th>\n",
              "      <td>62.000000</td>\n",
              "      <td>62.000000</td>\n",
              "      <td>61.000000</td>\n",
              "      <td>62.000000</td>\n",
              "    </tr>\n",
              "    <tr>\n",
              "      <th>mean</th>\n",
              "      <td>53.596774</td>\n",
              "      <td>63.483871</td>\n",
              "      <td>4.360656</td>\n",
              "      <td>1.241935</td>\n",
              "    </tr>\n",
              "    <tr>\n",
              "      <th>std</th>\n",
              "      <td>11.080125</td>\n",
              "      <td>3.415212</td>\n",
              "      <td>8.070590</td>\n",
              "      <td>0.431751</td>\n",
              "    </tr>\n",
              "    <tr>\n",
              "      <th>min</th>\n",
              "      <td>30.000000</td>\n",
              "      <td>58.000000</td>\n",
              "      <td>0.000000</td>\n",
              "      <td>1.000000</td>\n",
              "    </tr>\n",
              "    <tr>\n",
              "      <th>25%</th>\n",
              "      <td>46.250000</td>\n",
              "      <td>60.000000</td>\n",
              "      <td>0.000000</td>\n",
              "      <td>1.000000</td>\n",
              "    </tr>\n",
              "    <tr>\n",
              "      <th>50%</th>\n",
              "      <td>53.500000</td>\n",
              "      <td>64.000000</td>\n",
              "      <td>1.000000</td>\n",
              "      <td>1.000000</td>\n",
              "    </tr>\n",
              "    <tr>\n",
              "      <th>75%</th>\n",
              "      <td>60.000000</td>\n",
              "      <td>66.750000</td>\n",
              "      <td>4.000000</td>\n",
              "      <td>1.000000</td>\n",
              "    </tr>\n",
              "    <tr>\n",
              "      <th>max</th>\n",
              "      <td>78.000000</td>\n",
              "      <td>69.000000</td>\n",
              "      <td>46.000000</td>\n",
              "      <td>2.000000</td>\n",
              "    </tr>\n",
              "  </tbody>\n",
              "</table>\n",
              "</div>"
            ],
            "text/plain": [
              "             age       year  pos_ax_nodes  survival_status\n",
              "count  62.000000  62.000000     61.000000        62.000000\n",
              "mean   53.596774  63.483871      4.360656         1.241935\n",
              "std    11.080125   3.415212      8.070590         0.431751\n",
              "min    30.000000  58.000000      0.000000         1.000000\n",
              "25%    46.250000  60.000000      0.000000         1.000000\n",
              "50%    53.500000  64.000000      1.000000         1.000000\n",
              "75%    60.000000  66.750000      4.000000         1.000000\n",
              "max    78.000000  69.000000     46.000000         2.000000"
            ]
          },
          "execution_count": 8,
          "metadata": {},
          "output_type": "execute_result"
        }
      ],
      "source": [
        "from sklearn.model_selection import train_test_split\n",
        "train_set, test_set = train_test_split(df, test_size=0.2,\n",
        "random_state=10)\n",
        "train_set.head(5)\n",
        "train_set.describe()\n",
        "print(\"Length of train set:\", len(train_set))\n",
        "print('Length of test set:', len(test_set))\n",
        "test_set.describe()"
      ]
    },
    {
      "cell_type": "markdown",
      "metadata": {
        "id": "yHPpSt7BRbWe"
      },
      "source": [
        "We have created a train set with 244 rows and a test set with 62 rows\n",
        "\n",
        "### **3. Discover and visualize the data to gain insights**\n",
        "only explore the training set (create a copy)"
      ]
    },
    {
      "cell_type": "code",
      "execution_count": 9,
      "metadata": {
        "id": "jnWdszicMowU"
      },
      "outputs": [],
      "source": [
        "training = train_set.copy()"
      ]
    },
    {
      "cell_type": "markdown",
      "metadata": {
        "id": "wdEhlWCkRm7Y"
      },
      "source": [
        "#### *3.1 Visualize the training data*"
      ]
    },
    {
      "cell_type": "code",
      "execution_count": 10,
      "metadata": {
        "colab": {
          "base_uri": "https://localhost:8080/",
          "height": 175
        },
        "id": "lLLsIb-aMoz3",
        "outputId": "bc8ba742-7c59-437f-b9f7-e286c03d9350"
      },
      "outputs": [
        {
          "data": {
            "text/html": [
              "<div>\n",
              "<style scoped>\n",
              "    .dataframe tbody tr th:only-of-type {\n",
              "        vertical-align: middle;\n",
              "    }\n",
              "\n",
              "    .dataframe tbody tr th {\n",
              "        vertical-align: top;\n",
              "    }\n",
              "\n",
              "    .dataframe thead th {\n",
              "        text-align: right;\n",
              "    }\n",
              "</style>\n",
              "<table border=\"1\" class=\"dataframe\">\n",
              "  <thead>\n",
              "    <tr style=\"text-align: right;\">\n",
              "      <th></th>\n",
              "      <th>age</th>\n",
              "      <th>year</th>\n",
              "      <th>pos_ax_nodes</th>\n",
              "      <th>survival_status</th>\n",
              "    </tr>\n",
              "  </thead>\n",
              "  <tbody>\n",
              "    <tr>\n",
              "      <th>age</th>\n",
              "      <td>1.000000</td>\n",
              "      <td>0.059064</td>\n",
              "      <td>-0.042737</td>\n",
              "      <td>0.068399</td>\n",
              "    </tr>\n",
              "    <tr>\n",
              "      <th>year</th>\n",
              "      <td>0.059064</td>\n",
              "      <td>1.000000</td>\n",
              "      <td>-0.046920</td>\n",
              "      <td>-0.026656</td>\n",
              "    </tr>\n",
              "    <tr>\n",
              "      <th>pos_ax_nodes</th>\n",
              "      <td>-0.042737</td>\n",
              "      <td>-0.046920</td>\n",
              "      <td>1.000000</td>\n",
              "      <td>0.307871</td>\n",
              "    </tr>\n",
              "    <tr>\n",
              "      <th>survival_status</th>\n",
              "      <td>0.068399</td>\n",
              "      <td>-0.026656</td>\n",
              "      <td>0.307871</td>\n",
              "      <td>1.000000</td>\n",
              "    </tr>\n",
              "  </tbody>\n",
              "</table>\n",
              "</div>"
            ],
            "text/plain": [
              "                      age      year  pos_ax_nodes  survival_status\n",
              "age              1.000000  0.059064     -0.042737         0.068399\n",
              "year             0.059064  1.000000     -0.046920        -0.026656\n",
              "pos_ax_nodes    -0.042737 -0.046920      1.000000         0.307871\n",
              "survival_status  0.068399 -0.026656      0.307871         1.000000"
            ]
          },
          "execution_count": 10,
          "metadata": {},
          "output_type": "execute_result"
        }
      ],
      "source": [
        "corr_matrix = training.corr()\n",
        "corr_matrix"
      ]
    },
    {
      "cell_type": "markdown",
      "metadata": {
        "id": "aoZQUIoucL7N"
      },
      "source": [
        "The output provides insights into how strongly the relationship matrix between 4 variables (attributes) from the data is related to age, year, pos_ax_nodes, survival_status variables. since the values range from -1 to 1 therefore, reaching to -1 or 1 is the highest relationship and reduce gradually when the value recede from -1 or 1. Therefore, the output value of the relationship between every 2 different values are quite small, the best relationship between them are pos_ax_nodes and survival_status (~0.31).\n",
        "=> Since, there are not good relationship between the data variable."
      ]
    },
    {
      "cell_type": "code",
      "execution_count": 11,
      "metadata": {
        "colab": {
          "base_uri": "https://localhost:8080/",
          "height": 209
        },
        "id": "pJ8ddlICMo3j",
        "outputId": "f6552979-0123-4522-e634-73bb992c58c1"
      },
      "outputs": [
        {
          "data": {
            "text/plain": [
              "survival_status    1.000000\n",
              "pos_ax_nodes       0.307871\n",
              "age                0.068399\n",
              "year              -0.026656\n",
              "Name: survival_status, dtype: float64"
            ]
          },
          "execution_count": 11,
          "metadata": {},
          "output_type": "execute_result"
        }
      ],
      "source": [
        "corr_matrix['survival_status'].sort_values(ascending = False)"
      ]
    },
    {
      "cell_type": "markdown",
      "metadata": {
        "id": "2JWH1M5uvTQd"
      },
      "source": [
        "For our target variable, pos_ax_nodes has the highest correlation, although it is still a small number. Meanwhile, other variables don't have any correlation (0.06, -0.03) with survival_status. This is understandable because survival_status is either 1 or 2."
      ]
    },
    {
      "cell_type": "code",
      "execution_count": 12,
      "metadata": {
        "colab": {
          "base_uri": "https://localhost:8080/",
          "height": 885
        },
        "id": "Ba5lPjqCMo-D",
        "outputId": "69b10c9c-fe36-4aa3-98cd-0183064669cb"
      },
      "outputs": [
        {
          "data": {
            "text/plain": [
              "array([[<Axes: xlabel='age', ylabel='age'>,\n",
              "        <Axes: xlabel='year', ylabel='age'>,\n",
              "        <Axes: xlabel='pos_ax_nodes', ylabel='age'>,\n",
              "        <Axes: xlabel='survival_status', ylabel='age'>],\n",
              "       [<Axes: xlabel='age', ylabel='year'>,\n",
              "        <Axes: xlabel='year', ylabel='year'>,\n",
              "        <Axes: xlabel='pos_ax_nodes', ylabel='year'>,\n",
              "        <Axes: xlabel='survival_status', ylabel='year'>],\n",
              "       [<Axes: xlabel='age', ylabel='pos_ax_nodes'>,\n",
              "        <Axes: xlabel='year', ylabel='pos_ax_nodes'>,\n",
              "        <Axes: xlabel='pos_ax_nodes', ylabel='pos_ax_nodes'>,\n",
              "        <Axes: xlabel='survival_status', ylabel='pos_ax_nodes'>],\n",
              "       [<Axes: xlabel='age', ylabel='survival_status'>,\n",
              "        <Axes: xlabel='year', ylabel='survival_status'>,\n",
              "        <Axes: xlabel='pos_ax_nodes', ylabel='survival_status'>,\n",
              "        <Axes: xlabel='survival_status', ylabel='survival_status'>]],\n",
              "      dtype=object)"
            ]
          },
          "execution_count": 12,
          "metadata": {},
          "output_type": "execute_result"
        },
        {
          "data": {
            "image/png": "[encoded data removed]",
            "text/plain": [
              "<Figure size 1200x800 with 16 Axes>"
            ]
          },
          "metadata": {},
          "output_type": "display_data"
        }
      ],
      "source": [
        "from pandas.plotting import scatter_matrix\n",
        "attributes=['age', 'year', 'pos_ax_nodes', 'survival_status']\n",
        "scatter_matrix(df[attributes], figsize=(12,8))"
      ]
    },
    {
      "cell_type": "markdown",
      "metadata": {
        "id": "O2MyMTtIwRHm"
      },
      "source": [
        "The scatter matrix doesn't seem to provide more information, the data points looks disconnected."
      ]
    },
    {
      "cell_type": "markdown",
      "metadata": {
        "id": "pvb_4A-ZU7h9"
      },
      "source": [
        "### **4. Prepare the data for machine learning algorithms**\n",
        "- Checking the null values and separate predictors and labels"
      ]
    },
    {
      "cell_type": "code",
      "execution_count": 13,
      "metadata": {
        "colab": {
          "base_uri": "https://localhost:8080/",
          "height": 210
        },
        "id": "ENIGsDI7VicA",
        "outputId": "ab008768-18e6-4ea0-8181-f5ed4b024002"
      },
      "outputs": [
        {
          "data": {
            "text/plain": [
              "age                2\n",
              "year               1\n",
              "pos_ax_nodes       1\n",
              "survival_status    0\n",
              "dtype: int64"
            ]
          },
          "execution_count": 13,
          "metadata": {},
          "output_type": "execute_result"
        }
      ],
      "source": [
        "training.isna().sum()"
      ]
    },
    {
      "cell_type": "markdown",
      "metadata": {
        "id": "ahDhLrCtgVKF"
      },
      "source": [
        "from the training data, it can be clearly seen that there are 2 missing values in age variable, 1 missing value in year column, and 1 missing value in pos_ax_nodes, whereas the target variable doesnt have any missing values luckily.\n",
        "\n",
        "- Seperate predictors and labels"
      ]
    },
    {
      "cell_type": "code",
      "execution_count": 14,
      "metadata": {
        "id": "NLIM_pZhU8zM"
      },
      "outputs": [],
      "source": [
        "training_num = train_set.drop(\"survival_status\", axis=1)\n",
        "training_labels=train_set['survival_status'].copy()"
      ]
    },
    {
      "cell_type": "markdown",
      "metadata": {
        "id": "KtqkYiCdUlV9"
      },
      "source": [
        "\n",
        "\n",
        "#### *4.1 Data Cleaning*\n",
        "\n",
        "As we know that the data has some missing values, we have to deal with it\n"
      ]
    },
    {
      "cell_type": "code",
      "execution_count": 15,
      "metadata": {
        "colab": {
          "base_uri": "https://localhost:8080/",
          "height": 178
        },
        "id": "SvIt2naNMpBb",
        "outputId": "75ce5801-b65c-4657-a7eb-4d7c47e3a2ca"
      },
      "outputs": [
        {
          "data": {
            "text/plain": [
              "age             0\n",
              "year            0\n",
              "pos_ax_nodes    0\n",
              "dtype: int64"
            ]
          },
          "execution_count": 15,
          "metadata": {},
          "output_type": "execute_result"
        }
      ],
      "source": [
        "from sklearn.impute import SimpleImputer\n",
        "imputer = SimpleImputer(strategy='median')\n",
        "imputer.fit(training_num)\n",
        "imputer.statistics_\n",
        "X= imputer.transform(training_num)\n",
        "training_tr = pd.DataFrame(X, columns = training_num.columns, index = training_num.index)\n",
        "training_tr.isna().sum()"
      ]
    },
    {
      "cell_type": "markdown",
      "metadata": {
        "id": "TBV7-VPoiDTy"
      },
      "source": [
        "We use imputer to take care of missing values. In this case, we replaced the missing values with the median of other rows in the column. After that, we check the null values again from training data after transforming the missing values to the median. The output gave us no null value, which means the new training data is like already clean"
      ]
    },
    {
      "cell_type": "code",
      "execution_count": 16,
      "metadata": {
        "colab": {
          "base_uri": "https://localhost:8080/",
          "height": 178
        },
        "id": "iPNnB3GdUjYr",
        "outputId": "6d2b28c9-fcc3-41be-8080-6e80a56b675f"
      },
      "outputs": [
        {
          "data": {
            "text/plain": [
              "survival_status\n",
              "1    178\n",
              "0     66\n",
              "Name: count, dtype: int64"
            ]
          },
          "execution_count": 16,
          "metadata": {},
          "output_type": "execute_result"
        }
      ],
      "source": [
        "training_labels = training_labels.map(lambda x:1 if x == 1 else 0)\n",
        "training_labels.value_counts()"
      ]
    },
    {
      "cell_type": "markdown",
      "metadata": {
        "id": "yLefRg1xjA3D"
      },
      "source": [
        "We change the training labels to 0 and 1 to easy to to work with, where:\n",
        "+ 1 : the patient survived 5 years or longer (178 patients)\n",
        "+ 0 : the patient died within 5 years (66 patients)\n",
        "\n",
        "#### *Transformation Pipelines*"
      ]
    },
    {
      "cell_type": "code",
      "execution_count": 17,
      "metadata": {
        "id": "ETrUxfhFbWbH"
      },
      "outputs": [],
      "source": [
        "from sklearn.pipeline import Pipeline\n",
        "from sklearn.preprocessing import StandardScaler\n",
        "num_pipeline = Pipeline([\n",
        "('imputer', SimpleImputer(strategy='median')),\n",
        "('std_scaler', StandardScaler()),\n",
        "])"
      ]
    },
    {
      "cell_type": "markdown",
      "metadata": {
        "id": "UKXIlEubzb-6"
      },
      "source": [
        "We create a small  pipleline for numerical attributes where we replace the missing values with the median and rescale the numerical features"
      ]
    },
    {
      "cell_type": "code",
      "execution_count": 18,
      "metadata": {
        "id": "jUjOX0WtMpDn"
      },
      "outputs": [],
      "source": [
        "from sklearn.compose import ColumnTransformer\n",
        "from sklearn.preprocessing import StandardScaler\n",
        "num_attribs=list(training_num)\n",
        "cat_attribs=[\"survival_status\"]\n",
        "full_pipeline=ColumnTransformer([\n",
        " (\"num\", num_pipeline, num_attribs)\n",
        "])\n",
        "training_prepared = full_pipeline.fit_transform(training)"
      ]
    },
    {
      "cell_type": "markdown",
      "metadata": {
        "id": "ELrqBUWNzrIq"
      },
      "source": [
        "Next, we use a single transformer to handle all columns, which will be used to clean other data with the same way"
      ]
    },
    {
      "cell_type": "markdown",
      "metadata": {
        "id": "bi8Sd4EAdW9M"
      },
      "source": [
        "\n",
        "### **5. Select and train a model**\n",
        "#### *5.1. Training and evaluation on the training set*\n",
        "\n",
        "- Train a logistic regression model"
      ]
    },
    {
      "cell_type": "code",
      "execution_count": 19,
      "metadata": {
        "colab": {
          "base_uri": "https://localhost:8080/",
          "height": 80
        },
        "id": "jGXOBOVRMpHz",
        "outputId": "5ea4dd1a-f108-45f3-fde9-e934a5fc2dbc"
      },
      "outputs": [
        {
          "data": {
            "text/html": [
              "<style>#sk-container-id-1 {\n",
              "  /* Definition of color scheme common for light and dark mode */\n",
              "  --sklearn-color-text: black;\n",
              "  --sklearn-color-line: gray;\n",
              "  /* Definition of color scheme for unfitted estimators */\n",
              "  --sklearn-color-unfitted-level-0: #fff5e6;\n",
              "  --sklearn-color-unfitted-level-1: #f6e4d2;\n",
              "  --sklearn-color-unfitted-level-2: #ffe0b3;\n",
              "  --sklearn-color-unfitted-level-3: chocolate;\n",
              "  /* Definition of color scheme for fitted estimators */\n",
              "  --sklearn-color-fitted-level-0: #f0f8ff;\n",
              "  --sklearn-color-fitted-level-1: #d4ebff;\n",
              "  --sklearn-color-fitted-level-2: #b3dbfd;\n",
              "  --sklearn-color-fitted-level-3: cornflowerblue;\n",
              "\n",
              "  /* Specific color for light theme */\n",
              "  --sklearn-color-text-on-default-background: var(--sg-text-color, var(--theme-code-foreground, var(--jp-content-font-color1, black)));\n",
              "  --sklearn-color-background: var(--sg-background-color, var(--theme-background, var(--jp-layout-color0, white)));\n",
              "  --sklearn-color-border-box: var(--sg-text-color, var(--theme-code-foreground, var(--jp-content-font-color1, black)));\n",
              "  --sklearn-color-icon: #696969;\n",
              "\n",
              "  @media (prefers-color-scheme: dark) {\n",
              "    /* Redefinition of color scheme for dark theme */\n",
              "    --sklearn-color-text-on-default-background: var(--sg-text-color, var(--theme-code-foreground, var(--jp-content-font-color1, white)));\n",
              "    --sklearn-color-background: var(--sg-background-color, var(--theme-background, var(--jp-layout-color0, #111)));\n",
              "    --sklearn-color-border-box: var(--sg-text-color, var(--theme-code-foreground, var(--jp-content-font-color1, white)));\n",
              "    --sklearn-color-icon: #878787;\n",
              "  }\n",
              "}\n",
              "\n",
              "#sk-container-id-1 {\n",
              "  color: var(--sklearn-color-text);\n",
              "}\n",
              "\n",
              "#sk-container-id-1 pre {\n",
              "  padding: 0;\n",
              "}\n",
              "\n",
              "#sk-container-id-1 input.sk-hidden--visually {\n",
              "  border: 0;\n",
              "  clip: rect(1px 1px 1px 1px);\n",
              "  clip: rect(1px, 1px, 1px, 1px);\n",
              "  height: 1px;\n",
              "  margin: -1px;\n",
              "  overflow: hidden;\n",
              "  padding: 0;\n",
              "  position: absolute;\n",
              "  width: 1px;\n",
              "}\n",
              "\n",
              "#sk-container-id-1 div.sk-dashed-wrapped {\n",
              "  border: 1px dashed var(--sklearn-color-line);\n",
              "  margin: 0 0.4em 0.5em 0.4em;\n",
              "  box-sizing: border-box;\n",
              "  padding-bottom: 0.4em;\n",
              "  background-color: var(--sklearn-color-background);\n",
              "}\n",
              "\n",
              "#sk-container-id-1 div.sk-container {\n",
              "  /* jupyter's `normalize.less` sets `[hidden] { display: none; }`\n",
              "     but bootstrap.min.css set `[hidden] { display: none !important; }`\n",
              "     so we also need the `!important` here to be able to override the\n",
              "     default hidden behavior on the sphinx rendered scikit-learn.org.\n",
              "     See: https://github.com/scikit-learn/scikit-learn/issues/21755 */\n",
              "  display: inline-block !important;\n",
              "  position: relative;\n",
              "}\n",
              "\n",
              "#sk-container-id-1 div.sk-text-repr-fallback {\n",
              "  display: none;\n",
              "}\n",
              "\n",
              "div.sk-parallel-item,\n",
              "div.sk-serial,\n",
              "div.sk-item {\n",
              "  /* draw centered vertical line to link estimators */\n",
              "  background-image: linear-gradient(var(--sklearn-color-text-on-default-background), var(--sklearn-color-text-on-default-background));\n",
              "  background-size: 2px 100%;\n",
              "  background-repeat: no-repeat;\n",
              "  background-position: center center;\n",
              "}\n",
              "\n",
              "/* Parallel-specific style estimator block */\n",
              "\n",
              "#sk-container-id-1 div.sk-parallel-item::after {\n",
              "  content: \"\";\n",
              "  width: 100%;\n",
              "  border-bottom: 2px solid var(--sklearn-color-text-on-default-background);\n",
              "  flex-grow: 1;\n",
              "}\n",
              "\n",
              "#sk-container-id-1 div.sk-parallel {\n",
              "  display: flex;\n",
              "  align-items: stretch;\n",
              "  justify-content: center;\n",
              "  background-color: var(--sklearn-color-background);\n",
              "  position: relative;\n",
              "}\n",
              "\n",
              "#sk-container-id-1 div.sk-parallel-item {\n",
              "  display: flex;\n",
              "  flex-direction: column;\n",
              "}\n",
              "\n",
              "#sk-container-id-1 div.sk-parallel-item:first-child::after {\n",
              "  align-self: flex-end;\n",
              "  width: 50%;\n",
              "}\n",
              "\n",
              "#sk-container-id-1 div.sk-parallel-item:last-child::after {\n",
              "  align-self: flex-start;\n",
              "  width: 50%;\n",
              "}\n",
              "\n",
              "#sk-container-id-1 div.sk-parallel-item:only-child::after {\n",
              "  width: 0;\n",
              "}\n",
              "\n",
              "/* Serial-specific style estimator block */\n",
              "\n",
              "#sk-container-id-1 div.sk-serial {\n",
              "  display: flex;\n",
              "  flex-direction: column;\n",
              "  align-items: center;\n",
              "  background-color: var(--sklearn-color-background);\n",
              "  padding-right: 1em;\n",
              "  padding-left: 1em;\n",
              "}\n",
              "\n",
              "\n",
              "/* Toggleable style: style used for estimator/Pipeline/ColumnTransformer box that is\n",
              "clickable and can be expanded/collapsed.\n",
              "- Pipeline and ColumnTransformer use this feature and define the default style\n",
              "- Estimators will overwrite some part of the style using the `sk-estimator` class\n",
              "*/\n",
              "\n",
              "/* Pipeline and ColumnTransformer style (default) */\n",
              "\n",
              "#sk-container-id-1 div.sk-toggleable {\n",
              "  /* Default theme specific background. It is overwritten whether we have a\n",
              "  specific estimator or a Pipeline/ColumnTransformer */\n",
              "  background-color: var(--sklearn-color-background);\n",
              "}\n",
              "\n",
              "/* Toggleable label */\n",
              "#sk-container-id-1 label.sk-toggleable__label {\n",
              "  cursor: pointer;\n",
              "  display: block;\n",
              "  width: 100%;\n",
              "  margin-bottom: 0;\n",
              "  padding: 0.5em;\n",
              "  box-sizing: border-box;\n",
              "  text-align: center;\n",
              "}\n",
              "\n",
              "#sk-container-id-1 label.sk-toggleable__label-arrow:before {\n",
              "  /* Arrow on the left of the label */\n",
              "  content: \"▸\";\n",
              "  float: left;\n",
              "  margin-right: 0.25em;\n",
              "  color: var(--sklearn-color-icon);\n",
              "}\n",
              "\n",
              "#sk-container-id-1 label.sk-toggleable__label-arrow:hover:before {\n",
              "  color: var(--sklearn-color-text);\n",
              "}\n",
              "\n",
              "/* Toggleable content - dropdown */\n",
              "\n",
              "#sk-container-id-1 div.sk-toggleable__content {\n",
              "  max-height: 0;\n",
              "  max-width: 0;\n",
              "  overflow: hidden;\n",
              "  text-align: left;\n",
              "  /* unfitted */\n",
              "  background-color: var(--sklearn-color-unfitted-level-0);\n",
              "}\n",
              "\n",
              "#sk-container-id-1 div.sk-toggleable__content.fitted {\n",
              "  /* fitted */\n",
              "  background-color: var(--sklearn-color-fitted-level-0);\n",
              "}\n",
              "\n",
              "#sk-container-id-1 div.sk-toggleable__content pre {\n",
              "  margin: 0.2em;\n",
              "  border-radius: 0.25em;\n",
              "  color: var(--sklearn-color-text);\n",
              "  /* unfitted */\n",
              "  background-color: var(--sklearn-color-unfitted-level-0);\n",
              "}\n",
              "\n",
              "#sk-container-id-1 div.sk-toggleable__content.fitted pre {\n",
              "  /* unfitted */\n",
              "  background-color: var(--sklearn-color-fitted-level-0);\n",
              "}\n",
              "\n",
              "#sk-container-id-1 input.sk-toggleable__control:checked~div.sk-toggleable__content {\n",
              "  /* Expand drop-down */\n",
              "  max-height: 200px;\n",
              "  max-width: 100%;\n",
              "  overflow: auto;\n",
              "}\n",
              "\n",
              "#sk-container-id-1 input.sk-toggleable__control:checked~label.sk-toggleable__label-arrow:before {\n",
              "  content: \"▾\";\n",
              "}\n",
              "\n",
              "/* Pipeline/ColumnTransformer-specific style */\n",
              "\n",
              "#sk-container-id-1 div.sk-label input.sk-toggleable__control:checked~label.sk-toggleable__label {\n",
              "  color: var(--sklearn-color-text);\n",
              "  background-color: var(--sklearn-color-unfitted-level-2);\n",
              "}\n",
              "\n",
              "#sk-container-id-1 div.sk-label.fitted input.sk-toggleable__control:checked~label.sk-toggleable__label {\n",
              "  background-color: var(--sklearn-color-fitted-level-2);\n",
              "}\n",
              "\n",
              "/* Estimator-specific style */\n",
              "\n",
              "/* Colorize estimator box */\n",
              "#sk-container-id-1 div.sk-estimator input.sk-toggleable__control:checked~label.sk-toggleable__label {\n",
              "  /* unfitted */\n",
              "  background-color: var(--sklearn-color-unfitted-level-2);\n",
              "}\n",
              "\n",
              "#sk-container-id-1 div.sk-estimator.fitted input.sk-toggleable__control:checked~label.sk-toggleable__label {\n",
              "  /* fitted */\n",
              "  background-color: var(--sklearn-color-fitted-level-2);\n",
              "}\n",
              "\n",
              "#sk-container-id-1 div.sk-label label.sk-toggleable__label,\n",
              "#sk-container-id-1 div.sk-label label {\n",
              "  /* The background is the default theme color */\n",
              "  color: var(--sklearn-color-text-on-default-background);\n",
              "}\n",
              "\n",
              "/* On hover, darken the color of the background */\n",
              "#sk-container-id-1 div.sk-label:hover label.sk-toggleable__label {\n",
              "  color: var(--sklearn-color-text);\n",
              "  background-color: var(--sklearn-color-unfitted-level-2);\n",
              "}\n",
              "\n",
              "/* Label box, darken color on hover, fitted */\n",
              "#sk-container-id-1 div.sk-label.fitted:hover label.sk-toggleable__label.fitted {\n",
              "  color: var(--sklearn-color-text);\n",
              "  background-color: var(--sklearn-color-fitted-level-2);\n",
              "}\n",
              "\n",
              "/* Estimator label */\n",
              "\n",
              "#sk-container-id-1 div.sk-label label {\n",
              "  font-family: monospace;\n",
              "  font-weight: bold;\n",
              "  display: inline-block;\n",
              "  line-height: 1.2em;\n",
              "}\n",
              "\n",
              "#sk-container-id-1 div.sk-label-container {\n",
              "  text-align: center;\n",
              "}\n",
              "\n",
              "/* Estimator-specific */\n",
              "#sk-container-id-1 div.sk-estimator {\n",
              "  font-family: monospace;\n",
              "  border: 1px dotted var(--sklearn-color-border-box);\n",
              "  border-radius: 0.25em;\n",
              "  box-sizing: border-box;\n",
              "  margin-bottom: 0.5em;\n",
              "  /* unfitted */\n",
              "  background-color: var(--sklearn-color-unfitted-level-0);\n",
              "}\n",
              "\n",
              "#sk-container-id-1 div.sk-estimator.fitted {\n",
              "  /* fitted */\n",
              "  background-color: var(--sklearn-color-fitted-level-0);\n",
              "}\n",
              "\n",
              "/* on hover */\n",
              "#sk-container-id-1 div.sk-estimator:hover {\n",
              "  /* unfitted */\n",
              "  background-color: var(--sklearn-color-unfitted-level-2);\n",
              "}\n",
              "\n",
              "#sk-container-id-1 div.sk-estimator.fitted:hover {\n",
              "  /* fitted */\n",
              "  background-color: var(--sklearn-color-fitted-level-2);\n",
              "}\n",
              "\n",
              "/* Specification for estimator info (e.g. \"i\" and \"?\") */\n",
              "\n",
              "/* Common style for \"i\" and \"?\" */\n",
              "\n",
              ".sk-estimator-doc-link,\n",
              "a:link.sk-estimator-doc-link,\n",
              "a:visited.sk-estimator-doc-link {\n",
              "  float: right;\n",
              "  font-size: smaller;\n",
              "  line-height: 1em;\n",
              "  font-family: monospace;\n",
              "  background-color: var(--sklearn-color-background);\n",
              "  border-radius: 1em;\n",
              "  height: 1em;\n",
              "  width: 1em;\n",
              "  text-decoration: none !important;\n",
              "  margin-left: 1ex;\n",
              "  /* unfitted */\n",
              "  border: var(--sklearn-color-unfitted-level-1) 1pt solid;\n",
              "  color: var(--sklearn-color-unfitted-level-1);\n",
              "}\n",
              "\n",
              ".sk-estimator-doc-link.fitted,\n",
              "a:link.sk-estimator-doc-link.fitted,\n",
              "a:visited.sk-estimator-doc-link.fitted {\n",
              "  /* fitted */\n",
              "  border: var(--sklearn-color-fitted-level-1) 1pt solid;\n",
              "  color: var(--sklearn-color-fitted-level-1);\n",
              "}\n",
              "\n",
              "/* On hover */\n",
              "div.sk-estimator:hover .sk-estimator-doc-link:hover,\n",
              ".sk-estimator-doc-link:hover,\n",
              "div.sk-label-container:hover .sk-estimator-doc-link:hover,\n",
              ".sk-estimator-doc-link:hover {\n",
              "  /* unfitted */\n",
              "  background-color: var(--sklearn-color-unfitted-level-3);\n",
              "  color: var(--sklearn-color-background);\n",
              "  text-decoration: none;\n",
              "}\n",
              "\n",
              "div.sk-estimator.fitted:hover .sk-estimator-doc-link.fitted:hover,\n",
              ".sk-estimator-doc-link.fitted:hover,\n",
              "div.sk-label-container:hover .sk-estimator-doc-link.fitted:hover,\n",
              ".sk-estimator-doc-link.fitted:hover {\n",
              "  /* fitted */\n",
              "  background-color: var(--sklearn-color-fitted-level-3);\n",
              "  color: var(--sklearn-color-background);\n",
              "  text-decoration: none;\n",
              "}\n",
              "\n",
              "/* Span, style for the box shown on hovering the info icon */\n",
              ".sk-estimator-doc-link span {\n",
              "  display: none;\n",
              "  z-index: 9999;\n",
              "  position: relative;\n",
              "  font-weight: normal;\n",
              "  right: .2ex;\n",
              "  padding: .5ex;\n",
              "  margin: .5ex;\n",
              "  width: min-content;\n",
              "  min-width: 20ex;\n",
              "  max-width: 50ex;\n",
              "  color: var(--sklearn-color-text);\n",
              "  box-shadow: 2pt 2pt 4pt #999;\n",
              "  /* unfitted */\n",
              "  background: var(--sklearn-color-unfitted-level-0);\n",
              "  border: .5pt solid var(--sklearn-color-unfitted-level-3);\n",
              "}\n",
              "\n",
              ".sk-estimator-doc-link.fitted span {\n",
              "  /* fitted */\n",
              "  background: var(--sklearn-color-fitted-level-0);\n",
              "  border: var(--sklearn-color-fitted-level-3);\n",
              "}\n",
              "\n",
              ".sk-estimator-doc-link:hover span {\n",
              "  display: block;\n",
              "}\n",
              "\n",
              "/* \"?\"-specific style due to the `<a>` HTML tag */\n",
              "\n",
              "#sk-container-id-1 a.estimator_doc_link {\n",
              "  float: right;\n",
              "  font-size: 1rem;\n",
              "  line-height: 1em;\n",
              "  font-family: monospace;\n",
              "  background-color: var(--sklearn-color-background);\n",
              "  border-radius: 1rem;\n",
              "  height: 1rem;\n",
              "  width: 1rem;\n",
              "  text-decoration: none;\n",
              "  /* unfitted */\n",
              "  color: var(--sklearn-color-unfitted-level-1);\n",
              "  border: var(--sklearn-color-unfitted-level-1) 1pt solid;\n",
              "}\n",
              "\n",
              "#sk-container-id-1 a.estimator_doc_link.fitted {\n",
              "  /* fitted */\n",
              "  border: var(--sklearn-color-fitted-level-1) 1pt solid;\n",
              "  color: var(--sklearn-color-fitted-level-1);\n",
              "}\n",
              "\n",
              "/* On hover */\n",
              "#sk-container-id-1 a.estimator_doc_link:hover {\n",
              "  /* unfitted */\n",
              "  background-color: var(--sklearn-color-unfitted-level-3);\n",
              "  color: var(--sklearn-color-background);\n",
              "  text-decoration: none;\n",
              "}\n",
              "\n",
              "#sk-container-id-1 a.estimator_doc_link.fitted:hover {\n",
              "  /* fitted */\n",
              "  background-color: var(--sklearn-color-fitted-level-3);\n",
              "}\n",
              "</style><div id=\"sk-container-id-1\" class=\"sk-top-container\"><div class=\"sk-text-repr-fallback\"><pre>LogisticRegression()</pre><b>In a Jupyter environment, please rerun this cell to show the HTML representation or trust the notebook. <br />On GitHub, the HTML representation is unable to render, please try loading this page with nbviewer.org.</b></div><div class=\"sk-container\" hidden><div class=\"sk-item\"><div class=\"sk-estimator fitted sk-toggleable\"><input class=\"sk-toggleable__control sk-hidden--visually\" id=\"sk-estimator-id-1\" type=\"checkbox\" checked><label for=\"sk-estimator-id-1\" class=\"sk-toggleable__label fitted sk-toggleable__label-arrow fitted\">&nbsp;&nbsp;LogisticRegression<a class=\"sk-estimator-doc-link fitted\" rel=\"noreferrer\" target=\"_blank\" href=\"https://scikit-learn.org/1.5/modules/generated/sklearn.linear_model.LogisticRegression.html\">?<span>Documentation for LogisticRegression</span></a><span class=\"sk-estimator-doc-link fitted\">i<span>Fitted</span></span></label><div class=\"sk-toggleable__content fitted\"><pre>LogisticRegression()</pre></div> </div></div></div></div>"
            ],
            "text/plain": [
              "LogisticRegression()"
            ]
          },
          "execution_count": 19,
          "metadata": {},
          "output_type": "execute_result"
        }
      ],
      "source": [
        "from sklearn.linear_model import LogisticRegression\n",
        "import matplotlib.pyplot as plt\n",
        "logisticRegr = LogisticRegression()\n",
        "logisticRegr.fit(training_prepared, training_labels)"
      ]
    },
    {
      "cell_type": "markdown",
      "metadata": {
        "id": "VtZOYzB10C1-"
      },
      "source": [
        "Use linear model to predict some values"
      ]
    },
    {
      "cell_type": "code",
      "execution_count": 20,
      "metadata": {
        "colab": {
          "base_uri": "https://localhost:8080/"
        },
        "id": "nHmBGwO9MpKG",
        "outputId": "11e0cc58-0493-4b0b-b014-8c479aba0f8b"
      },
      "outputs": [
        {
          "name": "stdout",
          "output_type": "stream",
          "text": [
            "predictions: [1 0 1 1 1]\n",
            "Labels: [1, 1, 2, 1, 1]\n"
          ]
        }
      ],
      "source": [
        "some_data = training.iloc[:5]\n",
        "some_labels = training['survival_status'].iloc[:5]\n",
        "some_data_prepared = full_pipeline.transform(some_data)\n",
        "print('predictions:', logisticRegr.predict(some_data_prepared))\n",
        "print('Labels:', list(some_labels))"
      ]
    },
    {
      "cell_type": "markdown",
      "metadata": {
        "id": "MFa9uRDo0F_Z"
      },
      "source": [
        "The predictions predict correctly for all the first 5 instances\n",
        "the output displays the predictions with 5 individuals survived more than 5 years and the true labels also showing all 5 individual survived more than 5 years"
      ]
    },
    {
      "cell_type": "code",
      "execution_count": 21,
      "metadata": {
        "colab": {
          "base_uri": "https://localhost:8080/"
        },
        "id": "-WHjddp1MpMH",
        "outputId": "09a724fe-de5e-49e5-f002-4b225a6b2750"
      },
      "outputs": [
        {
          "name": "stdout",
          "output_type": "stream",
          "text": [
            "Accuracy on training: 0.7540983606557377\n",
            "Recall on training: 0.9606741573033708\n"
          ]
        }
      ],
      "source": [
        "from sklearn.metrics import confusion_matrix\n",
        "from sklearn.metrics import accuracy_score, recall_score\n",
        "logistic_predictions = logisticRegr.predict(training_prepared)\n",
        "print('Accuracy on training:', accuracy_score(training_labels, logistic_predictions))\n",
        "print('Recall on training:', recall_score(training_labels, logistic_predictions))\n",
        "\n"
      ]
    },
    {
      "cell_type": "markdown",
      "metadata": {
        "id": "pTB4aAp5LrkF"
      },
      "source": [
        "- Accuracy on training is 75.4% which means that the model accurately predicted the survival status with 75.8%. the slightly lower overall accuracy is likely due to some false positive (predicting tthat someone survived more than 5 years but they actually couldn't) means while lower True Positive or True Negative\n",
        "- Recall on training is 96.1% indicating that the model is highly effective at identifying actually survivors. Recall is calculate as TP/(TP + FN) => so the high recall suggests that the model is sensitive to detecting survivors more than 5 years, resulting in fewer false negatives (incorrectly predicting who survived by 5 years when they can last more than 5 years)\n"
      ]
    },
    {
      "cell_type": "markdown",
      "metadata": {
        "id": "mo7g4QZehNeG"
      },
      "source": [
        "- Train a SVM model"
      ]
    },
    {
      "cell_type": "code",
      "execution_count": 22,
      "metadata": {
        "colab": {
          "base_uri": "https://localhost:8080/"
        },
        "id": "_BFu8OWthPbw",
        "outputId": "f4dc39e8-1035-4c9b-cf3e-1883bb3debad"
      },
      "outputs": [
        {
          "name": "stdout",
          "output_type": "stream",
          "text": [
            "Accuracy on training: 0.7868852459016393\n",
            "Recall on training: 0.9662921348314607\n"
          ]
        }
      ],
      "source": [
        "from sklearn.svm import SVC\n",
        "svm_model = SVC()\n",
        "svm_model.fit(training_prepared, training_labels)\n",
        "svm_predictions = svm_model.predict(training_prepared)\n",
        "print('Accuracy on training:', accuracy_score(training_labels, svm_predictions))\n",
        "print('Recall on training:', recall_score(training_labels, svm_predictions))\n"
      ]
    },
    {
      "cell_type": "markdown",
      "metadata": {
        "id": "UjQstNDfWBHg"
      },
      "source": [
        "- Accuracy on training is 78.7% which means that the model accurately predicted the survival status with 78.28% which is slightly higher than logistic regression model with 75.8%. the gently higher overall accuracy is likely due to little increasing some false positive (predicting tthat someone survived more than 5 years but they actually couldn't)\n",
        "- Recall on training is 96.6% the model is quite well and it is gently higher than logistic regression model with 96.1% indicating that the model is good at recognizing real survivors.\n",
        "according to calculate recall = TP/(TP + FN)\n",
        "=> so the high recall suggests that the model is sensitive to detecting survivors more than 5 years, resulting in fewer false negatives (incorrectly predicting who survived by 5 years when they can last more than 5 years)\n"
      ]
    },
    {
      "cell_type": "markdown",
      "metadata": {
        "id": "N6q4XPkHh9r_"
      },
      "source": [
        "- Train a KNN model"
      ]
    },
    {
      "cell_type": "code",
      "execution_count": 23,
      "metadata": {
        "colab": {
          "base_uri": "https://localhost:8080/"
        },
        "id": "mjDJSP8olRu5",
        "outputId": "e02f63c7-4a8b-4cf5-e0b7-0c5c84874cfb"
      },
      "outputs": [
        {
          "name": "stdout",
          "output_type": "stream",
          "text": [
            "Accuracy on training: 0.7704918032786885\n",
            "Recall on training: 0.9269662921348315\n"
          ]
        }
      ],
      "source": [
        "from sklearn.model_selection import cross_val_score\n",
        "from sklearn.neighbors import KNeighborsClassifier\n",
        "import numpy as np\n",
        "# Find the best k for knn model\n",
        "k_values = range(1, 30)\n",
        "scores = []\n",
        "for k in k_values:\n",
        "    knn = KNeighborsClassifier(n_neighbors=k)\n",
        "    score = cross_val_score(knn, training_prepared, training_labels, cv=5, scoring='accuracy')\n",
        "    scores.append(score.mean())\n",
        "best_index = np.argmax(scores)\n",
        "best_k = k_values[best_index]\n",
        "knn_model = KNeighborsClassifier(n_neighbors=best_k)\n",
        "knn_model.fit(training_prepared, training_labels)\n",
        "knn_predictions = knn_model.predict(training_prepared)\n",
        "print('Accuracy on training:', accuracy_score(training_labels, knn_predictions))\n",
        "print('Recall on training:', recall_score(training_labels, knn_predictions))\n"
      ]
    },
    {
      "cell_type": "markdown",
      "metadata": {
        "id": "ErcOoOLib-h-"
      },
      "source": [
        "The KNN model has around 77% accuracy and 92.7% recall. It has the second highest accuracy but lowest recall on training set\n",
        "=> SVM has the best performance on traning set\n"
      ]
    },
    {
      "cell_type": "markdown",
      "metadata": {
        "id": "bSMuxF8dpGLm"
      },
      "source": [
        "\n",
        "### **6. Fine-Tune your model**\n",
        "First, we have to use the pipeline we already prepared in step 4 to transform the test set and also change the target variable to 1 and 0"
      ]
    },
    {
      "cell_type": "code",
      "execution_count": 24,
      "metadata": {
        "id": "wkROALx-pHsf"
      },
      "outputs": [],
      "source": [
        "X_test = test_set.drop(\"survival_status\", axis=1)\n",
        "y_test = test_set['survival_status'].copy()\n",
        "X_test_prepared = full_pipeline.transform(X_test)\n",
        "y_test_prepared = y_test.map(lambda x:1 if x == 1 else 0)\n"
      ]
    },
    {
      "cell_type": "markdown",
      "metadata": {
        "id": "GNS8xKKx3y9i"
      },
      "source": [
        "Before evaluating the model, the 2 methods that we  used are accuracy and recall. Accuracy helps us see the overall correctness of the models' predictions. Meanwhile, recall is the most crucial method because it ensures that the model captures most high-risk patients (those who might not survive), we want to minimize the number of high-risk patients who are missed, as they might need further monitoring or treatment. High recall ensures that most patients at risk of not surviving are correctly flagged."
      ]
    },
    {
      "cell_type": "code",
      "execution_count": 28,
      "metadata": {
        "colab": {
          "base_uri": "https://localhost:8080/"
        },
        "id": "Gq2vELJSpxFp",
        "outputId": "eec00933-8a90-411d-8371-24bdf9c36f68"
      },
      "outputs": [
        {
          "name": "stdout",
          "output_type": "stream",
          "text": [
            "Accuracy on test set: 0.7580645161290323\n",
            "Recall on test: 0.9361702127659575\n"
          ]
        }
      ],
      "source": [
        "# Logistic Model\n",
        "logistic_final_pred = logisticRegr.predict(X_test_prepared)\n",
        "print('Accuracy on test set:', accuracy_score(y_test_prepared, logistic_final_pred))\n",
        "print('Recall on test:', recall_score(y_test_prepared, logistic_final_pred))"
      ]
    },
    {
      "cell_type": "markdown",
      "metadata": {
        "id": "mPHYitCDePz8"
      },
      "source": [
        "Logistic model by test set correctly predicted the survival status 75.8%\n",
        "- although the recall is fairly high, the accuracy is just average. If you want to make sure that as many patients can survivor by 5 years (0) or more than 5 years (1).\n",
        "- high recall is frequently more useful than high accuracy in situations such as medical survival forecasts since it's more important to survivors (reduce false negative = missing some patients who survived more than 5 years)."
      ]
    },
    {
      "cell_type": "code",
      "execution_count": 29,
      "metadata": {
        "colab": {
          "base_uri": "https://localhost:8080/"
        },
        "id": "Peih8jvqq1wU",
        "outputId": "193e09d7-09a7-444c-a46c-4ccb1adb8327"
      },
      "outputs": [
        {
          "name": "stdout",
          "output_type": "stream",
          "text": [
            "Accuracy on test set: 0.7580645161290323\n",
            "Recall on test: 0.9574468085106383\n"
          ]
        }
      ],
      "source": [
        "# SVM model\n",
        "svm_final_pred = svm_model.predict(X_test_prepared)\n",
        "print('Accuracy on test set:', accuracy_score(y_test_prepared, svm_final_pred))\n",
        "print('Recall on test:', recall_score(y_test_prepared, svm_final_pred))"
      ]
    },
    {
      "cell_type": "code",
      "execution_count": 30,
      "metadata": {
        "colab": {
          "base_uri": "https://localhost:8080/"
        },
        "id": "xNfCeCtXq199",
        "outputId": "eee8c577-dcde-4704-fe2e-d208cb531938"
      },
      "outputs": [
        {
          "name": "stdout",
          "output_type": "stream",
          "text": [
            "Accuracy on test set: 0.7419354838709677\n",
            "Recall on test: 0.9574468085106383\n"
          ]
        }
      ],
      "source": [
        "# KNN model\n",
        "knn_final_pred = knn_model.predict(X_test_prepared)\n",
        "print('Accuracy on test set:', accuracy_score(y_test_prepared, knn_final_pred))\n",
        "print('Recall on test:', recall_score(y_test_prepared, svm_final_pred))"
      ]
    },
    {
      "cell_type": "markdown",
      "metadata": {
        "id": "CgQB11YWjHPf"
      },
      "source": [
        "*SVM Model and KNN Model on testing data*\n",
        "- SVM model: SVM has the same accuracy as Logistic model, and the same recall with the KNN model, which are 75.8% and 95.7%. This means although the accuracy is average, it is better to have higher recall in this medical scenario as to reduce false negative.\n",
        "- KNN model: KNN has the lowest accuracy on the test set with 74.2% and same recall with SVM: 0.957. The SVM and KNN models are more successful identifying survivors than the logistic regression model which has a higher recall (95.7%) than former (93.6%).\n",
        "\n",
        "=> SVM performs the best among 3 models on test set"
      ]
    },
    {
      "cell_type": "markdown",
      "metadata": {
        "id": "CuMlIVnEsJGY"
      },
      "source": [
        "### **7. Comparison - Present Solution**\n",
        "- Training performance: SVM model performs the best in both methods, 2nd is logistic, and last is KNN model\n",
        "- Testing performance: SVM continues to perform the best in both methods, then recall, and lastly is logistic.\n",
        "All of the models are quite good in training data but performs a bit worse on testing set, which means it might be over-fitting, but just a bit. SVM model performs very well on the training and doing the best on the test performance with smallest difference. As the test set can be considered future data, so if the model performs better on it on the test set, it is better to choose it. Moreover, as we already said in this scenario, recall is the most important method, and Logistic model has the highest recall in all sets.\n",
        "\n",
        "=> After all, **SVM Model** model is the best choice among the 3 models\n"
      ]
    }
  ],
  "metadata": {
    "colab": {
      "provenance": []
    },
    "kernelspec": {
      "display_name": "Python 3",
      "name": "python3"
    },
    "language_info": {
      "codemirror_mode": {
        "name": "ipython",
        "version": 3
      },
      "file_extension": ".py",
      "mimetype": "text/x-python",
      "name": "python",
      "nbconvert_exporter": "python",
      "pygments_lexer": "ipython3",
      "version": "3.10.11"
    }
  },
  "nbformat": 4,
  "nbformat_minor": 0
}
